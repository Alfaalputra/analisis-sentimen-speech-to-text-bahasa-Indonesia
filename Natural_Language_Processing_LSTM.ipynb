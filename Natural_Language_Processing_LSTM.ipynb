{
  "nbformat": 4,
  "nbformat_minor": 0,
  "metadata": {
    "colab": {
      "provenance": [],
      "collapsed_sections": [],
      "include_colab_link": true
    },
    "kernelspec": {
      "name": "python3",
      "display_name": "Python 3"
    },
    "accelerator": "GPU"
  },
  "cells": [
    {
      "cell_type": "markdown",
      "metadata": {
        "id": "view-in-github",
        "colab_type": "text"
      },
      "source": [
        "<a href=\"https://colab.research.google.com/github/Alfaalputra/Alfaalputra/blob/main/Natural_Language_Processing_LSTM.ipynb\" target=\"_parent\"><img src=\"https://colab.research.google.com/assets/colab-badge.svg\" alt=\"Open In Colab\"/></a>"
      ]
    },
    {
      "cell_type": "code",
      "metadata": {
        "id": "eROsQdNf0-j4",
        "colab": {
          "base_uri": "https://localhost:8080/",
          "height": 309
        },
        "outputId": "0f3846ff-21e2-42d0-dd69-9fb250c2ad6e"
      },
      "source": [
        "!wget --no-check-certificate \\\n",
        "    https://data.mendeley.com/datasets/k42j7x2kpn/1/files/5df17537-cd9a-4df8-9e26-89931aef005b/all_agree.csv?dl=1 \\\n",
        "    -O /tmp/clickbait.csv"
      ],
      "execution_count": null,
      "outputs": [
        {
          "output_type": "stream",
          "text": [
            "--2020-08-22 12:36:01--  https://data.mendeley.com/datasets/k42j7x2kpn/1/files/5df17537-cd9a-4df8-9e26-89931aef005b/all_agree.csv?dl=1\n",
            "Resolving data.mendeley.com (data.mendeley.com)... 162.159.133.86, 162.159.130.86\n",
            "Connecting to data.mendeley.com (data.mendeley.com)|162.159.133.86|:443... connected.\n",
            "HTTP request sent, awaiting response... 302 Found\n",
            "Location: https://md-datasets-public-files-prod.s3.eu-west-1.amazonaws.com/aca40896-c1dc-45f9-b649-e3d006b630e4 [following]\n",
            "--2020-08-22 12:36:01--  https://md-datasets-public-files-prod.s3.eu-west-1.amazonaws.com/aca40896-c1dc-45f9-b649-e3d006b630e4\n",
            "Resolving md-datasets-public-files-prod.s3.eu-west-1.amazonaws.com (md-datasets-public-files-prod.s3.eu-west-1.amazonaws.com)... 52.218.102.48\n",
            "Connecting to md-datasets-public-files-prod.s3.eu-west-1.amazonaws.com (md-datasets-public-files-prod.s3.eu-west-1.amazonaws.com)|52.218.102.48|:443... connected.\n",
            "HTTP request sent, awaiting response... 200 OK\n",
            "Length: 691752 (676K) [text/csv]\n",
            "Saving to: ‘/tmp/clickbait.csv’\n",
            "\n",
            "/tmp/clickbait.csv  100%[===================>] 675.54K  1.37MB/s    in 0.5s    \n",
            "\n",
            "2020-08-22 12:36:02 (1.37 MB/s) - ‘/tmp/clickbait.csv’ saved [691752/691752]\n",
            "\n"
          ],
          "name": "stdout"
        }
      ]
    },
    {
      "cell_type": "code",
      "metadata": {
        "id": "nwkFR-dK2FPU",
        "colab": {
          "base_uri": "https://localhost:8080/",
          "height": 204
        },
        "outputId": "006e37f4-bf10-47ed-aa06-bdb971c11699"
      },
      "source": [
        "import pandas as pd\n",
        "\n",
        "df = pd.read_csv('/tmp/clickbait.csv',delimiter=',',encoding='latin-1')\n",
        "df.head()\n"
      ],
      "execution_count": null,
      "outputs": [
        {
          "output_type": "execute_result",
          "data": {
            "text/html": [
              "<div>\n",
              "<style scoped>\n",
              "    .dataframe tbody tr th:only-of-type {\n",
              "        vertical-align: middle;\n",
              "    }\n",
              "\n",
              "    .dataframe tbody tr th {\n",
              "        vertical-align: top;\n",
              "    }\n",
              "\n",
              "    .dataframe thead th {\n",
              "        text-align: right;\n",
              "    }\n",
              "</style>\n",
              "<table border=\"1\" class=\"dataframe\">\n",
              "  <thead>\n",
              "    <tr style=\"text-align: right;\">\n",
              "      <th></th>\n",
              "      <th>title</th>\n",
              "      <th>label</th>\n",
              "      <th>label_score</th>\n",
              "    </tr>\n",
              "  </thead>\n",
              "  <tbody>\n",
              "    <tr>\n",
              "      <th>0</th>\n",
              "      <td>Masuk Radar Pilwalkot Medan, Menantu Jokowi Be...</td>\n",
              "      <td>non-clickbait</td>\n",
              "      <td>0</td>\n",
              "    </tr>\n",
              "    <tr>\n",
              "      <th>1</th>\n",
              "      <td>Malaysia Sudutkan RI: Isu Kabut Asap hingga In...</td>\n",
              "      <td>non-clickbait</td>\n",
              "      <td>0</td>\n",
              "    </tr>\n",
              "    <tr>\n",
              "      <th>2</th>\n",
              "      <td>Viral! Driver Ojol di Bekasi Antar Pesanan Mak...</td>\n",
              "      <td>clickbait</td>\n",
              "      <td>1</td>\n",
              "    </tr>\n",
              "    <tr>\n",
              "      <th>3</th>\n",
              "      <td>Kemensos Salurkan Rp 7,3 M bagi Korban Kerusuh...</td>\n",
              "      <td>non-clickbait</td>\n",
              "      <td>0</td>\n",
              "    </tr>\n",
              "    <tr>\n",
              "      <th>4</th>\n",
              "      <td>MPR: Amandemen UUD 1945 Tak Akan Melebar ke Ma...</td>\n",
              "      <td>non-clickbait</td>\n",
              "      <td>0</td>\n",
              "    </tr>\n",
              "  </tbody>\n",
              "</table>\n",
              "</div>"
            ],
            "text/plain": [
              "                                               title  ... label_score\n",
              "0  Masuk Radar Pilwalkot Medan, Menantu Jokowi Be...  ...           0\n",
              "1  Malaysia Sudutkan RI: Isu Kabut Asap hingga In...  ...           0\n",
              "2  Viral! Driver Ojol di Bekasi Antar Pesanan Mak...  ...           1\n",
              "3  Kemensos Salurkan Rp 7,3 M bagi Korban Kerusuh...  ...           0\n",
              "4  MPR: Amandemen UUD 1945 Tak Akan Melebar ke Ma...  ...           0\n",
              "\n",
              "[5 rows x 3 columns]"
            ]
          },
          "metadata": {
            "tags": []
          },
          "execution_count": 2
        }
      ]
    },
    {
      "cell_type": "code",
      "metadata": {
        "id": "BwdlJJMo1a2K",
        "colab": {
          "base_uri": "https://localhost:8080/",
          "height": 34
        },
        "outputId": "a32f119e-140c-45bd-9def-ee7c7c9eead3"
      },
      "source": [
        "import tensorflow as tf\n",
        "import numpy as np\n",
        "import csv\n",
        "from tensorflow.keras.preprocessing.text import Tokenizer\n",
        "from tensorflow.keras.preprocessing.sequence import pad_sequences\n",
        "\n",
        "corpus = []\n",
        "num_sentences = 0\n",
        "with open(\"/tmp/clickbait.csv\") as csvfile:\n",
        "    reader = csv.reader(csvfile, delimiter=',')\n",
        "    next(reader)\n",
        "    for row in reader:\n",
        "        list_item = []\n",
        "        if (row[2] == '0'):\n",
        "          label = 0\n",
        "        else:\n",
        "          label = 1\n",
        "        list_item.append(label)\n",
        "        list_item.append(row[0])\n",
        "        num_sentences = num_sentences + 1\n",
        "        corpus.append(list_item)\n",
        "\n",
        "print(len(corpus))"
      ],
      "execution_count": null,
      "outputs": [
        {
          "output_type": "stream",
          "text": [
            "8613\n"
          ],
          "name": "stdout"
        }
      ]
    },
    {
      "cell_type": "code",
      "metadata": {
        "id": "DsYGOAlp9VUn",
        "colab": {
          "base_uri": "https://localhost:8080/",
          "height": 34
        },
        "outputId": "6d3b651f-14fc-4f89-fc17-ce029209fd35"
      },
      "source": [
        "print(corpus[1])"
      ],
      "execution_count": null,
      "outputs": [
        {
          "output_type": "stream",
          "text": [
            "[0, 'Malaysia Sudutkan RI: Isu Kabut Asap hingga Invasi Babi']\n"
          ],
          "name": "stdout"
        }
      ]
    },
    {
      "cell_type": "code",
      "metadata": {
        "id": "tBaT2iFr6x0Z"
      },
      "source": [
        "#define the hyperparameters\n",
        "\n",
        "embedding_dim = 100\n",
        "max_length = 16\n",
        "trunc_type='post'\n",
        "padding_type='post'\n",
        "oov_tok = \"<OOV>\"\n",
        "training_size=len(corpus)\n",
        "test_portion=.2"
      ],
      "execution_count": null,
      "outputs": []
    },
    {
      "cell_type": "code",
      "metadata": {
        "id": "bDjdB-R4-SL5",
        "colab": {
          "base_uri": "https://localhost:8080/",
          "height": 246
        },
        "outputId": "e4835b9c-d422-4c1d-dc15-5fb1414e459e"
      },
      "source": [
        "import random\n",
        "sentences = []\n",
        "labels = []\n",
        "random.shuffle(corpus)\n",
        "for x in range(training_size):\n",
        "  sentences.append(corpus[x][1])\n",
        "  labels.append(corpus[x][0])\n",
        "print(len(sentences))\n",
        "print(len(labels))"
      ],
      "execution_count": null,
      "outputs": [
        {
          "output_type": "error",
          "ename": "NameError",
          "evalue": "ignored",
          "traceback": [
            "\u001b[0;31m---------------------------------------------------------------------------\u001b[0m",
            "\u001b[0;31mNameError\u001b[0m                                 Traceback (most recent call last)",
            "\u001b[0;32m<ipython-input-2-4b53aca297bc>\u001b[0m in \u001b[0;36m<module>\u001b[0;34m()\u001b[0m\n\u001b[1;32m      1\u001b[0m \u001b[0msentences\u001b[0m \u001b[0;34m=\u001b[0m \u001b[0;34m[\u001b[0m\u001b[0;34m]\u001b[0m\u001b[0;34m\u001b[0m\u001b[0;34m\u001b[0m\u001b[0m\n\u001b[1;32m      2\u001b[0m \u001b[0mlabels\u001b[0m \u001b[0;34m=\u001b[0m \u001b[0;34m[\u001b[0m\u001b[0;34m]\u001b[0m\u001b[0;34m\u001b[0m\u001b[0;34m\u001b[0m\u001b[0m\n\u001b[0;32m----> 3\u001b[0;31m \u001b[0mrandom\u001b[0m\u001b[0;34m.\u001b[0m\u001b[0mshuffle\u001b[0m\u001b[0;34m(\u001b[0m\u001b[0mcorpus\u001b[0m\u001b[0;34m)\u001b[0m\u001b[0;34m\u001b[0m\u001b[0;34m\u001b[0m\u001b[0m\n\u001b[0m\u001b[1;32m      4\u001b[0m \u001b[0;32mfor\u001b[0m \u001b[0mx\u001b[0m \u001b[0;32min\u001b[0m \u001b[0mrange\u001b[0m\u001b[0;34m(\u001b[0m\u001b[0mtraining_size\u001b[0m\u001b[0;34m)\u001b[0m\u001b[0;34m:\u001b[0m\u001b[0;34m\u001b[0m\u001b[0;34m\u001b[0m\u001b[0m\n\u001b[1;32m      5\u001b[0m   \u001b[0msentences\u001b[0m\u001b[0;34m.\u001b[0m\u001b[0mappend\u001b[0m\u001b[0;34m(\u001b[0m\u001b[0mcorpus\u001b[0m\u001b[0;34m[\u001b[0m\u001b[0mx\u001b[0m\u001b[0;34m]\u001b[0m\u001b[0;34m[\u001b[0m\u001b[0;36m1\u001b[0m\u001b[0;34m]\u001b[0m\u001b[0;34m)\u001b[0m\u001b[0;34m\u001b[0m\u001b[0;34m\u001b[0m\u001b[0m\n",
            "\u001b[0;31mNameError\u001b[0m: name 'corpus' is not defined"
          ]
        }
      ]
    },
    {
      "cell_type": "code",
      "metadata": {
        "id": "KNTO0QJi6Rix",
        "colab": {
          "base_uri": "https://localhost:8080/",
          "height": 85
        },
        "outputId": "3941c1b2-5434-4308-8835-e3285ca5f445"
      },
      "source": [
        "#Tokenize the sentence and padding them\n",
        "\n",
        "tokenizer = Tokenizer(oov_token=oov_tok)\n",
        "tokenizer.fit_on_texts(sentences)\n",
        "word_index = tokenizer.word_index\n",
        "\n",
        "vocab_size = len(word_index)\n",
        "\n",
        "sequences = tokenizer.texts_to_sequences(sentences)\n",
        "padded = pad_sequences(sequences, maxlen=max_length, padding=padding_type, truncating=trunc_type)\n",
        "\n",
        "split = int(test_portion * training_size)\n",
        "\n",
        "test_sequences = padded[0:split]\n",
        "test_labels = np.array(labels[0:split])\n",
        "\n",
        "train_sequences = padded[split:]\n",
        "train_labels = np.array(labels[split:])\n",
        "\n",
        "\n",
        "print(len(train_sequences))\n",
        "print(len(train_labels))\n",
        "print(len(test_sequences))\n",
        "print(len(test_labels))\n"
      ],
      "execution_count": null,
      "outputs": [
        {
          "output_type": "stream",
          "text": [
            "6891\n",
            "6891\n",
            "1722\n",
            "1722\n"
          ],
          "name": "stdout"
        }
      ]
    },
    {
      "cell_type": "code",
      "metadata": {
        "id": "KsbZpOkHNjjh",
        "colab": {
          "base_uri": "https://localhost:8080/",
          "height": 204
        },
        "outputId": "06e65792-fdaf-4a08-ec4d-b83b58eea740"
      },
      "source": [
        "# Note this is the 100 dimension version of GloVe from Stanford\n",
        "# I unzipped and hosted it on my site to make this notebook easier\n",
        "!wget --no-check-certificate \\\n",
        "    https://storage.googleapis.com/laurencemoroney-blog.appspot.com/glove.6B.100d.txt \\\n",
        "    -O /tmp/glove.6B.100d.txt\n",
        "embeddings_index = {};\n",
        "with open('/tmp/glove.6B.100d.txt') as f:\n",
        "    for line in f:\n",
        "        values = line.split();\n",
        "        word = values[0];\n",
        "        coefs = np.asarray(values[1:], dtype='float32');\n",
        "        embeddings_index[word] = coefs;\n",
        "\n",
        "embeddings_matrix = np.zeros((vocab_size+1, embedding_dim));\n",
        "for word, i in word_index.items():\n",
        "    embedding_vector = embeddings_index.get(word);\n",
        "    if embedding_vector is not None:\n",
        "        embeddings_matrix[i] = embedding_vector;"
      ],
      "execution_count": null,
      "outputs": [
        {
          "output_type": "stream",
          "text": [
            "--2020-08-22 12:36:06--  https://storage.googleapis.com/laurencemoroney-blog.appspot.com/glove.6B.100d.txt\n",
            "Resolving storage.googleapis.com (storage.googleapis.com)... 173.194.216.128, 173.194.217.128, 172.217.204.128, ...\n",
            "Connecting to storage.googleapis.com (storage.googleapis.com)|173.194.216.128|:443... connected.\n",
            "HTTP request sent, awaiting response... 200 OK\n",
            "Length: 347116733 (331M) [text/plain]\n",
            "Saving to: ‘/tmp/glove.6B.100d.txt’\n",
            "\n",
            "/tmp/glove.6B.100d. 100%[===================>] 331.04M  86.8MB/s    in 3.8s    \n",
            "\n",
            "2020-08-22 12:36:10 (86.8 MB/s) - ‘/tmp/glove.6B.100d.txt’ saved [347116733/347116733]\n",
            "\n"
          ],
          "name": "stdout"
        }
      ]
    },
    {
      "cell_type": "code",
      "metadata": {
        "id": "cwOYvMZQ-Nzf",
        "colab": {
          "base_uri": "https://localhost:8080/",
          "height": 1000
        },
        "outputId": "7f48d0bf-7830-4971-ff02-9ffae72c1ebc"
      },
      "source": [
        "#build and train the model\n",
        "\n",
        "model = tf.keras.Sequential([\n",
        "    tf.keras.layers.Embedding(vocab_size+1, embedding_dim, input_length=max_length, weights=[embeddings_matrix], trainable=False),\n",
        "    tf.keras.layers.Dropout(0.2),\n",
        "    tf.keras.layers.Bidirectional(tf.keras.layers.LSTM(32)),\n",
        "    tf.keras.layers.Dense(1, activation='sigmoid')\n",
        "])\n",
        "model.compile(loss='binary_crossentropy',optimizer='adam',metrics=['accuracy'])\n",
        "model.summary()\n",
        "\n",
        "num_epochs = 100\n",
        "history = model.fit(train_sequences, train_labels, epochs=num_epochs, validation_data=(test_sequences, test_labels), verbose=1)"
      ],
      "execution_count": null,
      "outputs": [
        {
          "output_type": "stream",
          "text": [
            "Model: \"sequential\"\n",
            "_________________________________________________________________\n",
            "Layer (type)                 Output Shape              Param #   \n",
            "=================================================================\n",
            "embedding (Embedding)        (None, 16, 100)           1393600   \n",
            "_________________________________________________________________\n",
            "dropout (Dropout)            (None, 16, 100)           0         \n",
            "_________________________________________________________________\n",
            "bidirectional (Bidirectional (None, 64)                34048     \n",
            "_________________________________________________________________\n",
            "dense (Dense)                (None, 1)                 65        \n",
            "=================================================================\n",
            "Total params: 1,427,713\n",
            "Trainable params: 34,113\n",
            "Non-trainable params: 1,393,600\n",
            "_________________________________________________________________\n",
            "Epoch 1/100\n",
            "216/216 [==============================] - 3s 15ms/step - loss: 0.5474 - accuracy: 0.7220 - val_loss: 0.4672 - val_accuracy: 0.7782\n",
            "Epoch 2/100\n",
            "216/216 [==============================] - 2s 11ms/step - loss: 0.4568 - accuracy: 0.7910 - val_loss: 0.4135 - val_accuracy: 0.8211\n",
            "Epoch 3/100\n",
            "216/216 [==============================] - 2s 11ms/step - loss: 0.4148 - accuracy: 0.8212 - val_loss: 0.3864 - val_accuracy: 0.8304\n",
            "Epoch 4/100\n",
            "216/216 [==============================] - 2s 11ms/step - loss: 0.3833 - accuracy: 0.8365 - val_loss: 0.3821 - val_accuracy: 0.8333\n",
            "Epoch 5/100\n",
            "216/216 [==============================] - 2s 10ms/step - loss: 0.3528 - accuracy: 0.8495 - val_loss: 0.3722 - val_accuracy: 0.8391\n",
            "Epoch 6/100\n",
            "216/216 [==============================] - 2s 11ms/step - loss: 0.3337 - accuracy: 0.8571 - val_loss: 0.3702 - val_accuracy: 0.8467\n",
            "Epoch 7/100\n",
            "216/216 [==============================] - 2s 11ms/step - loss: 0.3088 - accuracy: 0.8746 - val_loss: 0.3536 - val_accuracy: 0.8519\n",
            "Epoch 8/100\n",
            "216/216 [==============================] - 2s 11ms/step - loss: 0.2944 - accuracy: 0.8798 - val_loss: 0.3569 - val_accuracy: 0.8490\n",
            "Epoch 9/100\n",
            "216/216 [==============================] - 2s 11ms/step - loss: 0.2780 - accuracy: 0.8820 - val_loss: 0.3787 - val_accuracy: 0.8490\n",
            "Epoch 10/100\n",
            "216/216 [==============================] - 2s 11ms/step - loss: 0.2622 - accuracy: 0.8930 - val_loss: 0.3832 - val_accuracy: 0.8444\n",
            "Epoch 11/100\n",
            "216/216 [==============================] - 2s 10ms/step - loss: 0.2533 - accuracy: 0.8975 - val_loss: 0.3741 - val_accuracy: 0.8548\n",
            "Epoch 12/100\n",
            "216/216 [==============================] - 2s 11ms/step - loss: 0.2337 - accuracy: 0.9063 - val_loss: 0.3890 - val_accuracy: 0.8415\n",
            "Epoch 13/100\n",
            "216/216 [==============================] - 2s 10ms/step - loss: 0.2278 - accuracy: 0.9074 - val_loss: 0.3807 - val_accuracy: 0.8513\n",
            "Epoch 14/100\n",
            "216/216 [==============================] - 2s 11ms/step - loss: 0.2178 - accuracy: 0.9096 - val_loss: 0.3949 - val_accuracy: 0.8577\n",
            "Epoch 15/100\n",
            "216/216 [==============================] - 2s 10ms/step - loss: 0.2091 - accuracy: 0.9155 - val_loss: 0.3991 - val_accuracy: 0.8508\n",
            "Epoch 16/100\n",
            "216/216 [==============================] - 2s 10ms/step - loss: 0.2015 - accuracy: 0.9193 - val_loss: 0.4055 - val_accuracy: 0.8484\n",
            "Epoch 17/100\n",
            "216/216 [==============================] - 2s 11ms/step - loss: 0.1889 - accuracy: 0.9258 - val_loss: 0.3922 - val_accuracy: 0.8502\n",
            "Epoch 18/100\n",
            "216/216 [==============================] - 2s 11ms/step - loss: 0.1778 - accuracy: 0.9331 - val_loss: 0.4171 - val_accuracy: 0.8525\n",
            "Epoch 19/100\n",
            "216/216 [==============================] - 2s 11ms/step - loss: 0.1704 - accuracy: 0.9290 - val_loss: 0.4542 - val_accuracy: 0.8432\n",
            "Epoch 20/100\n",
            "216/216 [==============================] - 2s 11ms/step - loss: 0.1612 - accuracy: 0.9370 - val_loss: 0.4506 - val_accuracy: 0.8548\n",
            "Epoch 21/100\n",
            "216/216 [==============================] - 2s 11ms/step - loss: 0.1569 - accuracy: 0.9356 - val_loss: 0.4604 - val_accuracy: 0.8426\n",
            "Epoch 22/100\n",
            "216/216 [==============================] - 2s 11ms/step - loss: 0.1428 - accuracy: 0.9457 - val_loss: 0.4956 - val_accuracy: 0.8415\n",
            "Epoch 23/100\n",
            "216/216 [==============================] - 2s 11ms/step - loss: 0.1443 - accuracy: 0.9435 - val_loss: 0.4838 - val_accuracy: 0.8449\n",
            "Epoch 24/100\n",
            "216/216 [==============================] - 2s 10ms/step - loss: 0.1417 - accuracy: 0.9460 - val_loss: 0.4753 - val_accuracy: 0.8490\n",
            "Epoch 25/100\n",
            "216/216 [==============================] - 2s 10ms/step - loss: 0.1262 - accuracy: 0.9491 - val_loss: 0.4967 - val_accuracy: 0.8479\n",
            "Epoch 26/100\n",
            "216/216 [==============================] - 2s 10ms/step - loss: 0.1245 - accuracy: 0.9536 - val_loss: 0.5289 - val_accuracy: 0.8449\n",
            "Epoch 27/100\n",
            "216/216 [==============================] - 2s 11ms/step - loss: 0.1235 - accuracy: 0.9525 - val_loss: 0.4881 - val_accuracy: 0.8403\n",
            "Epoch 28/100\n",
            "216/216 [==============================] - 2s 11ms/step - loss: 0.1134 - accuracy: 0.9589 - val_loss: 0.5597 - val_accuracy: 0.8420\n",
            "Epoch 29/100\n",
            "216/216 [==============================] - 2s 11ms/step - loss: 0.1143 - accuracy: 0.9573 - val_loss: 0.5166 - val_accuracy: 0.8508\n",
            "Epoch 30/100\n",
            "216/216 [==============================] - 2s 11ms/step - loss: 0.1092 - accuracy: 0.9581 - val_loss: 0.5415 - val_accuracy: 0.8380\n",
            "Epoch 31/100\n",
            "216/216 [==============================] - 2s 11ms/step - loss: 0.0992 - accuracy: 0.9615 - val_loss: 0.5728 - val_accuracy: 0.8362\n",
            "Epoch 32/100\n",
            "216/216 [==============================] - 2s 10ms/step - loss: 0.0968 - accuracy: 0.9634 - val_loss: 0.5758 - val_accuracy: 0.8513\n",
            "Epoch 33/100\n",
            "216/216 [==============================] - 2s 11ms/step - loss: 0.1031 - accuracy: 0.9595 - val_loss: 0.5542 - val_accuracy: 0.8426\n",
            "Epoch 34/100\n",
            "216/216 [==============================] - 2s 11ms/step - loss: 0.0927 - accuracy: 0.9647 - val_loss: 0.5749 - val_accuracy: 0.8426\n",
            "Epoch 35/100\n",
            "216/216 [==============================] - 2s 11ms/step - loss: 0.0868 - accuracy: 0.9689 - val_loss: 0.6295 - val_accuracy: 0.8339\n",
            "Epoch 36/100\n",
            "216/216 [==============================] - 2s 10ms/step - loss: 0.0926 - accuracy: 0.9660 - val_loss: 0.6393 - val_accuracy: 0.8351\n",
            "Epoch 37/100\n",
            "216/216 [==============================] - 2s 10ms/step - loss: 0.0854 - accuracy: 0.9675 - val_loss: 0.6401 - val_accuracy: 0.8357\n",
            "Epoch 38/100\n",
            "216/216 [==============================] - 2s 11ms/step - loss: 0.0857 - accuracy: 0.9662 - val_loss: 0.6193 - val_accuracy: 0.8391\n",
            "Epoch 39/100\n",
            "216/216 [==============================] - 2s 11ms/step - loss: 0.0842 - accuracy: 0.9703 - val_loss: 0.6024 - val_accuracy: 0.8374\n",
            "Epoch 40/100\n",
            "216/216 [==============================] - 2s 11ms/step - loss: 0.0764 - accuracy: 0.9708 - val_loss: 0.6203 - val_accuracy: 0.8357\n",
            "Epoch 41/100\n",
            "216/216 [==============================] - 2s 10ms/step - loss: 0.0753 - accuracy: 0.9721 - val_loss: 0.6553 - val_accuracy: 0.8298\n",
            "Epoch 42/100\n",
            "216/216 [==============================] - 2s 11ms/step - loss: 0.0741 - accuracy: 0.9708 - val_loss: 0.6239 - val_accuracy: 0.8438\n",
            "Epoch 43/100\n",
            "216/216 [==============================] - 2s 11ms/step - loss: 0.0803 - accuracy: 0.9707 - val_loss: 0.6168 - val_accuracy: 0.8362\n",
            "Epoch 44/100\n",
            "216/216 [==============================] - 2s 10ms/step - loss: 0.0730 - accuracy: 0.9743 - val_loss: 0.6224 - val_accuracy: 0.8357\n",
            "Epoch 45/100\n",
            "216/216 [==============================] - 2s 11ms/step - loss: 0.0737 - accuracy: 0.9705 - val_loss: 0.6624 - val_accuracy: 0.8310\n",
            "Epoch 46/100\n",
            "216/216 [==============================] - 2s 11ms/step - loss: 0.0746 - accuracy: 0.9718 - val_loss: 0.6352 - val_accuracy: 0.8345\n",
            "Epoch 47/100\n",
            "216/216 [==============================] - 2s 11ms/step - loss: 0.0600 - accuracy: 0.9792 - val_loss: 0.7046 - val_accuracy: 0.8293\n",
            "Epoch 48/100\n",
            "216/216 [==============================] - 2s 10ms/step - loss: 0.0703 - accuracy: 0.9737 - val_loss: 0.6374 - val_accuracy: 0.8403\n",
            "Epoch 49/100\n",
            "216/216 [==============================] - 2s 10ms/step - loss: 0.0616 - accuracy: 0.9772 - val_loss: 0.6467 - val_accuracy: 0.8426\n",
            "Epoch 50/100\n",
            "216/216 [==============================] - 2s 11ms/step - loss: 0.0601 - accuracy: 0.9778 - val_loss: 0.6919 - val_accuracy: 0.8362\n",
            "Epoch 51/100\n",
            "216/216 [==============================] - 2s 10ms/step - loss: 0.0633 - accuracy: 0.9771 - val_loss: 0.6822 - val_accuracy: 0.8240\n",
            "Epoch 52/100\n",
            "216/216 [==============================] - 2s 11ms/step - loss: 0.0647 - accuracy: 0.9766 - val_loss: 0.6690 - val_accuracy: 0.8339\n",
            "Epoch 53/100\n",
            "216/216 [==============================] - 2s 10ms/step - loss: 0.0547 - accuracy: 0.9814 - val_loss: 0.6690 - val_accuracy: 0.8438\n",
            "Epoch 54/100\n",
            "216/216 [==============================] - 2s 11ms/step - loss: 0.0637 - accuracy: 0.9761 - val_loss: 0.6901 - val_accuracy: 0.8235\n",
            "Epoch 55/100\n",
            "216/216 [==============================] - 2s 10ms/step - loss: 0.0622 - accuracy: 0.9778 - val_loss: 0.6846 - val_accuracy: 0.8339\n",
            "Epoch 56/100\n",
            "216/216 [==============================] - 2s 10ms/step - loss: 0.0570 - accuracy: 0.9792 - val_loss: 0.6799 - val_accuracy: 0.8287\n",
            "Epoch 57/100\n",
            "216/216 [==============================] - 2s 11ms/step - loss: 0.0527 - accuracy: 0.9811 - val_loss: 0.6928 - val_accuracy: 0.8374\n",
            "Epoch 58/100\n",
            "216/216 [==============================] - 2s 10ms/step - loss: 0.0472 - accuracy: 0.9829 - val_loss: 0.7357 - val_accuracy: 0.8438\n",
            "Epoch 59/100\n",
            "216/216 [==============================] - 2s 10ms/step - loss: 0.0532 - accuracy: 0.9797 - val_loss: 0.7293 - val_accuracy: 0.8316\n",
            "Epoch 60/100\n",
            "216/216 [==============================] - 2s 11ms/step - loss: 0.0570 - accuracy: 0.9797 - val_loss: 0.7349 - val_accuracy: 0.8397\n",
            "Epoch 61/100\n",
            "216/216 [==============================] - 2s 10ms/step - loss: 0.0480 - accuracy: 0.9832 - val_loss: 0.7480 - val_accuracy: 0.8328\n",
            "Epoch 62/100\n",
            "216/216 [==============================] - 2s 11ms/step - loss: 0.0518 - accuracy: 0.9797 - val_loss: 0.7351 - val_accuracy: 0.8362\n",
            "Epoch 63/100\n",
            "216/216 [==============================] - 2s 10ms/step - loss: 0.0445 - accuracy: 0.9843 - val_loss: 0.8071 - val_accuracy: 0.8275\n",
            "Epoch 64/100\n",
            "216/216 [==============================] - 2s 11ms/step - loss: 0.0479 - accuracy: 0.9823 - val_loss: 0.7584 - val_accuracy: 0.8328\n",
            "Epoch 65/100\n",
            "216/216 [==============================] - 2s 10ms/step - loss: 0.0478 - accuracy: 0.9826 - val_loss: 0.7242 - val_accuracy: 0.8409\n",
            "Epoch 66/100\n",
            "216/216 [==============================] - 2s 10ms/step - loss: 0.0469 - accuracy: 0.9833 - val_loss: 0.8210 - val_accuracy: 0.8269\n",
            "Epoch 67/100\n",
            "216/216 [==============================] - 2s 11ms/step - loss: 0.0478 - accuracy: 0.9824 - val_loss: 0.7964 - val_accuracy: 0.8426\n",
            "Epoch 68/100\n",
            "216/216 [==============================] - 2s 11ms/step - loss: 0.0382 - accuracy: 0.9861 - val_loss: 0.8435 - val_accuracy: 0.8345\n",
            "Epoch 69/100\n",
            "216/216 [==============================] - 2s 10ms/step - loss: 0.0400 - accuracy: 0.9871 - val_loss: 0.7907 - val_accuracy: 0.8403\n",
            "Epoch 70/100\n",
            "216/216 [==============================] - 2s 11ms/step - loss: 0.0450 - accuracy: 0.9836 - val_loss: 0.7936 - val_accuracy: 0.8380\n",
            "Epoch 71/100\n",
            "216/216 [==============================] - 2s 11ms/step - loss: 0.0424 - accuracy: 0.9846 - val_loss: 0.8141 - val_accuracy: 0.8409\n",
            "Epoch 72/100\n",
            "216/216 [==============================] - 2s 11ms/step - loss: 0.0441 - accuracy: 0.9837 - val_loss: 0.7753 - val_accuracy: 0.8345\n",
            "Epoch 73/100\n",
            "216/216 [==============================] - 2s 11ms/step - loss: 0.0401 - accuracy: 0.9851 - val_loss: 0.8090 - val_accuracy: 0.8316\n",
            "Epoch 74/100\n",
            "216/216 [==============================] - 2s 11ms/step - loss: 0.0441 - accuracy: 0.9837 - val_loss: 0.8310 - val_accuracy: 0.8339\n",
            "Epoch 75/100\n",
            "216/216 [==============================] - 2s 10ms/step - loss: 0.0405 - accuracy: 0.9856 - val_loss: 0.8458 - val_accuracy: 0.8258\n",
            "Epoch 76/100\n",
            "216/216 [==============================] - 2s 11ms/step - loss: 0.0380 - accuracy: 0.9859 - val_loss: 0.8466 - val_accuracy: 0.8316\n",
            "Epoch 77/100\n",
            "216/216 [==============================] - 2s 10ms/step - loss: 0.0419 - accuracy: 0.9845 - val_loss: 0.8466 - val_accuracy: 0.8275\n",
            "Epoch 78/100\n",
            "216/216 [==============================] - 2s 11ms/step - loss: 0.0357 - accuracy: 0.9875 - val_loss: 0.8217 - val_accuracy: 0.8328\n",
            "Epoch 79/100\n",
            "216/216 [==============================] - 2s 11ms/step - loss: 0.0394 - accuracy: 0.9851 - val_loss: 0.8712 - val_accuracy: 0.8275\n",
            "Epoch 80/100\n",
            "216/216 [==============================] - 2s 11ms/step - loss: 0.0407 - accuracy: 0.9856 - val_loss: 0.8217 - val_accuracy: 0.8298\n",
            "Epoch 81/100\n",
            "216/216 [==============================] - 2s 11ms/step - loss: 0.0364 - accuracy: 0.9880 - val_loss: 0.8528 - val_accuracy: 0.8310\n",
            "Epoch 82/100\n",
            "216/216 [==============================] - 2s 11ms/step - loss: 0.0397 - accuracy: 0.9856 - val_loss: 0.8555 - val_accuracy: 0.8345\n",
            "Epoch 83/100\n",
            "216/216 [==============================] - 2s 11ms/step - loss: 0.0362 - accuracy: 0.9866 - val_loss: 0.8220 - val_accuracy: 0.8362\n",
            "Epoch 84/100\n",
            "216/216 [==============================] - 2s 11ms/step - loss: 0.0402 - accuracy: 0.9851 - val_loss: 0.8110 - val_accuracy: 0.8298\n",
            "Epoch 85/100\n",
            "216/216 [==============================] - 2s 10ms/step - loss: 0.0356 - accuracy: 0.9884 - val_loss: 0.8541 - val_accuracy: 0.8322\n",
            "Epoch 86/100\n",
            "216/216 [==============================] - 2s 11ms/step - loss: 0.0334 - accuracy: 0.9896 - val_loss: 0.8725 - val_accuracy: 0.8345\n",
            "Epoch 87/100\n",
            "216/216 [==============================] - 2s 10ms/step - loss: 0.0381 - accuracy: 0.9862 - val_loss: 0.8854 - val_accuracy: 0.8333\n",
            "Epoch 88/100\n",
            "216/216 [==============================] - 2s 11ms/step - loss: 0.0363 - accuracy: 0.9865 - val_loss: 0.8633 - val_accuracy: 0.8386\n",
            "Epoch 89/100\n",
            "216/216 [==============================] - 2s 11ms/step - loss: 0.0325 - accuracy: 0.9882 - val_loss: 0.8037 - val_accuracy: 0.8362\n",
            "Epoch 90/100\n",
            "216/216 [==============================] - 2s 10ms/step - loss: 0.0395 - accuracy: 0.9861 - val_loss: 0.8046 - val_accuracy: 0.8444\n",
            "Epoch 91/100\n",
            "216/216 [==============================] - 2s 11ms/step - loss: 0.0428 - accuracy: 0.9839 - val_loss: 0.7587 - val_accuracy: 0.8380\n",
            "Epoch 92/100\n",
            "216/216 [==============================] - 2s 10ms/step - loss: 0.0329 - accuracy: 0.9887 - val_loss: 0.8091 - val_accuracy: 0.8403\n",
            "Epoch 93/100\n",
            "216/216 [==============================] - 2s 11ms/step - loss: 0.0336 - accuracy: 0.9858 - val_loss: 0.7985 - val_accuracy: 0.8316\n",
            "Epoch 94/100\n",
            "216/216 [==============================] - 2s 11ms/step - loss: 0.0366 - accuracy: 0.9865 - val_loss: 0.8248 - val_accuracy: 0.8328\n",
            "Epoch 95/100\n",
            "216/216 [==============================] - 2s 11ms/step - loss: 0.0406 - accuracy: 0.9864 - val_loss: 0.8225 - val_accuracy: 0.8357\n",
            "Epoch 96/100\n",
            "216/216 [==============================] - 2s 11ms/step - loss: 0.0271 - accuracy: 0.9900 - val_loss: 0.8535 - val_accuracy: 0.8409\n",
            "Epoch 97/100\n",
            "216/216 [==============================] - 2s 10ms/step - loss: 0.0327 - accuracy: 0.9887 - val_loss: 0.8248 - val_accuracy: 0.8316\n",
            "Epoch 98/100\n",
            "216/216 [==============================] - 2s 11ms/step - loss: 0.0328 - accuracy: 0.9887 - val_loss: 0.8253 - val_accuracy: 0.8322\n",
            "Epoch 99/100\n",
            "216/216 [==============================] - 2s 11ms/step - loss: 0.0327 - accuracy: 0.9887 - val_loss: 0.8594 - val_accuracy: 0.8397\n",
            "Epoch 100/100\n",
            "216/216 [==============================] - 2s 11ms/step - loss: 0.0300 - accuracy: 0.9891 - val_loss: 0.8680 - val_accuracy: 0.8380\n"
          ],
          "name": "stdout"
        }
      ]
    },
    {
      "cell_type": "code",
      "metadata": {
        "id": "xf3QXEa0Ad4v",
        "colab": {
          "base_uri": "https://localhost:8080/",
          "height": 607
        },
        "outputId": "55bd1824-54a6-4b7f-b6c0-27cafe232e26"
      },
      "source": [
        "import matplotlib.pyplot as plt\n",
        "\n",
        "#-----------------------------------------------------------\n",
        "# Retrieve a list of list results on training and test data\n",
        "# sets for each training epoch\n",
        "#-----------------------------------------------------------\n",
        "acc=history.history['accuracy']\n",
        "val_acc=history.history['val_accuracy']\n",
        "loss=history.history['loss']\n",
        "val_loss=history.history['val_loss']\n",
        "\n",
        "epochs=range(len(acc)) # Get number of epochs\n",
        "\n",
        "#------------------------------------------------\n",
        "# Plot training and validation accuracy per epoch\n",
        "#------------------------------------------------\n",
        "plt.plot(epochs, acc, 'r')\n",
        "plt.plot(epochs, val_acc, 'b')\n",
        "plt.title('Training and validation accuracy')\n",
        "plt.xlabel(\"Epochs\")\n",
        "plt.ylabel(\"Accuracy\")\n",
        "plt.legend([\"Accuracy\", \"Validation Accuracy\"])\n",
        "\n",
        "plt.figure()\n",
        "\n",
        "#------------------------------------------------\n",
        "# Plot training and validation loss per epoch\n",
        "#------------------------------------------------\n",
        "plt.plot(epochs, loss, 'r')\n",
        "plt.plot(epochs, val_loss, 'b')\n",
        "plt.title('Training and validation loss')\n",
        "plt.xlabel(\"Epochs\")\n",
        "plt.ylabel(\"Loss\")\n",
        "plt.legend([\"Loss\", \"Validation Loss\"])\n",
        "\n",
        "plt.figure()\n",
        "\n",
        "\n",
        "# Expected Output\n",
        "# A chart where the validation loss does not increase sharply!"
      ],
      "execution_count": null,
      "outputs": [
        {
          "output_type": "execute_result",
          "data": {
            "text/plain": [
              "<Figure size 432x288 with 0 Axes>"
            ]
          },
          "metadata": {
            "tags": []
          },
          "execution_count": 10
        },
        {
          "output_type": "display_data",
          "data": {
            "image/png": "[encoded data removed]",
            "text/plain": [
              "<Figure size 432x288 with 1 Axes>"
            ]
          },
          "metadata": {
            "tags": [],
            "needs_background": "light"
          }
        },
        {
          "output_type": "display_data",
          "data": {
            "image/png": "[encoded data removed]",
            "text/plain": [
              "<Figure size 432x288 with 1 Axes>"
            ]
          },
          "metadata": {
            "tags": [],
            "needs_background": "light"
          }
        },
        {
          "output_type": "display_data",
          "data": {
            "text/plain": [
              "<Figure size 432x288 with 0 Axes>"
            ]
          },
          "metadata": {
            "tags": []
          }
        }
      ]
    },
    {
      "cell_type": "code",
      "metadata": {
        "id": "T4bTogczH01Q"
      },
      "source": [],
      "execution_count": null,
      "outputs": []
    }
  ]
}